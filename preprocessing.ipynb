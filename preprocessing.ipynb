{
 "cells": [
  {
   "cell_type": "code",
   "execution_count": 1,
   "metadata": {},
   "outputs": [],
   "source": [
    "import os\n",
    "import shutil\n",
    "import subprocess\n",
    "from glob import glob"
   ]
  },
  {
   "cell_type": "code",
   "execution_count": 2,
   "metadata": {},
   "outputs": [],
   "source": [
    "import rasterio"
   ]
  },
  {
   "cell_type": "code",
   "execution_count": 3,
   "metadata": {},
   "outputs": [],
   "source": [
    "data = os.getcwd() + \"\\\\data1\""
   ]
  },
  {
   "cell_type": "code",
   "execution_count": 4,
   "metadata": {},
   "outputs": [],
   "source": [
    "months_list = glob(data+\"\\\\*\")"
   ]
  },
  {
   "cell_type": "code",
   "execution_count": 5,
   "metadata": {},
   "outputs": [
    {
     "data": {
      "text/plain": [
       "['E:\\\\data_download\\\\APSAC\\\\SAC Groundnut\\\\Sentinal Data Downloader\\\\data1\\\\feb_data',\n",
       " 'E:\\\\data_download\\\\APSAC\\\\SAC Groundnut\\\\Sentinal Data Downloader\\\\data1\\\\jan_data']"
      ]
     },
     "execution_count": 5,
     "metadata": {},
     "output_type": "execute_result"
    }
   ],
   "source": [
    "months_list"
   ]
  },
  {
   "cell_type": "code",
   "execution_count": 6,
   "metadata": {
    "scrolled": true
   },
   "outputs": [
    {
     "name": "stdout",
     "output_type": "stream",
     "text": [
      "E:\\data_download\\APSAC\\SAC Groundnut\\Sentinal Data Downloader\\data1\\feb_data\n",
      "Failed Converting (1/2) S2A_MSIL2A_20200116T050131_N0213_R119_T44PLC_20200116T072603...\n",
      "Failed Converting (2/2) S2A_MSIL2A_20200116T050131_N0213_R119_T44PLV_20200116T072603...\n",
      "E:\\data_download\\APSAC\\SAC Groundnut\\Sentinal Data Downloader\\data1\\jan_data\n",
      "Failed Converting (1/2) S2A_MSIL2A_20200116T050131_N0213_R119_T44PLA_20200116T072603...\n",
      "Failed Converting (2/2) S2A_MSIL2A_20200116T050131_N0213_R119_T44PLB_20200116T072603...\n"
     ]
    }
   ],
   "source": [
    "for month in months_list:\n",
    "    print(month)\n",
    "    data_list = glob(month+\"\\\\*\")\n",
    "    num_scenes = len(data_list)\n",
    "    i = 0\n",
    "    for scene in data_list:\n",
    "        path  =  scene + \"\\\\GRANULE\"\n",
    "        data_folder = glob(path + \"\\\\*\")\n",
    "        data_folder[0] =  data_folder[0] + \"\\\\IMG_DATA\\\\R10m\"\n",
    "        files = glob(data_folder[0] + \"\\\\*.jp2\")\n",
    "        i = i + 1\n",
    "        for file in files:\n",
    "            dst = file.split('\\\\')[-1].split('.')[0] + \".tif\"\n",
    "            dst = data_folder[0] +\"\\\\\"+ dst\n",
    "            if not os.path.exists(dst):\n",
    "                os.system(\"gdal_translate \"+file+\" \"+dst)\n",
    "        if os.path.exists(dst):\n",
    "            print(\"Converted (\" + str(i) + \"/\" + str(num_scenes) + \") \" + scene.split('\\\\')[-1].split('.')[0] + \"...\")\n",
    "        else:\n",
    "            print(\"Failed Converting (\" + str(i) + \"/\" + str(num_scenes) + \") \" + scene.split('\\\\')[-1].split('.')[0] + \"...\")"
   ]
  },
  {
   "cell_type": "code",
   "execution_count": 7,
   "metadata": {},
   "outputs": [],
   "source": [
    "if not os.path.exists(os.getcwd()+\"\\\\stacked_images\"):\n",
    "    stack_folder = os.makedirs(os.getcwd()+\"\\\\stacked_images\")\n",
    "for month in months_list:\n",
    "    dst = month.split('\\\\')[-1]\n",
    "    if not os.path.exists(os.getcwd()+\"\\\\stacked_images\\\\\"+dst):\n",
    "        os.makedirs(os.getcwd()+\"\\\\stacked_images\\\\\"+dst)"
   ]
  },
  {
   "cell_type": "code",
   "execution_count": 13,
   "metadata": {
    "scrolled": true
   },
   "outputs": [
    {
     "name": "stdout",
     "output_type": "stream",
     "text": [
      "C:\\Users\\Hello\\Documents\\remote-sensing\\APIs\\SentinelSat\\data\\dec_data\n",
      "(1/23) Stacked T44PLC_20181215T051211.tif...\n",
      "(1/23) Copied to stacked_data ...\n",
      "(2/23) Stacked T44PMC_20181215T051211.tif...\n",
      "(2/23) Copied to stacked_data ...\n",
      "(3/23) Stacked T44PLC_20181222T050211.tif...\n",
      "(3/23) Copied to stacked_data ...\n",
      "(4/23) Stacked T44PMC_20181222T050211.tif...\n",
      "(4/23) Copied to stacked_data ...\n",
      "(5/23) Stacked T44PNC_20181222T050211.tif...\n",
      "(5/23) Copied to stacked_data ...\n",
      "(6/23) Stacked T44QMD_20181222T050211.tif...\n",
      "(6/23) Copied to stacked_data ...\n",
      "(7/23) Stacked T44QND_20181222T050211.tif...\n",
      "(7/23) Copied to stacked_data ...\n",
      "(8/23) Stacked T44PLC_20181225T051221.tif...\n",
      "(8/23) Copied to stacked_data ...\n",
      "(9/23) Stacked T44PMC_20181225T051221.tif...\n",
      "(9/23) Copied to stacked_data ...\n",
      "(10/23) Stacked T44PLC_20181217T050219.tif...\n",
      "(10/23) Copied to stacked_data ...\n",
      "(11/23) Stacked T44PMC_20181217T050219.tif...\n",
      "(11/23) Copied to stacked_data ...\n",
      "(12/23) Stacked T44PNC_20181217T050219.tif...\n",
      "(12/23) Copied to stacked_data ...\n",
      "(13/23) Stacked T44QMD_20181217T050219.tif...\n",
      "(13/23) Copied to stacked_data ...\n",
      "(14/23) Stacked T44QND_20181217T050219.tif...\n",
      "(14/23) Copied to stacked_data ...\n",
      "(15/23) Stacked T44PLC_20181220T051219.tif...\n",
      "(15/23) Copied to stacked_data ...\n",
      "(16/23) Stacked T44PMC_20181220T051219.tif...\n",
      "(16/23) Copied to stacked_data ...\n",
      "(17/23) Stacked T44PLC_20181227T050219.tif...\n",
      "(17/23) Copied to stacked_data ...\n",
      "(18/23) Stacked T44PMC_20181227T050219.tif...\n",
      "(18/23) Copied to stacked_data ...\n",
      "(19/23) Stacked T44PNC_20181227T050219.tif...\n",
      "(19/23) Copied to stacked_data ...\n",
      "(20/23) Stacked T44QMD_20181227T050219.tif...\n",
      "(20/23) Copied to stacked_data ...\n",
      "(21/23) Stacked T44QND_20181227T050219.tif...\n",
      "(21/23) Copied to stacked_data ...\n",
      "(22/23) Stacked T44PLC_20181230T051219.tif...\n",
      "(22/23) Copied to stacked_data ...\n",
      "(23/23) Stacked T44PMC_20181230T051219.tif...\n",
      "(23/23) Copied to stacked_data ...\n",
      "C:\\Users\\Hello\\Documents\\remote-sensing\\APIs\\SentinelSat\\data\\jan_data\n",
      "(1/45) Stacked T44PLC_20190101T050211.tif...\n",
      "(1/45) Copied to stacked_data ...\n",
      "(2/45) Stacked T44PMC_20190101T050211.tif...\n",
      "(2/45) Copied to stacked_data ...\n",
      "(3/45) Stacked T44PNC_20190101T050211.tif...\n",
      "(3/45) Copied to stacked_data ...\n",
      "(4/45) Stacked T44QMD_20190101T050211.tif...\n",
      "(4/45) Copied to stacked_data ...\n",
      "(5/45) Stacked T44QND_20190101T050211.tif...\n",
      "(5/45) Copied to stacked_data ...\n",
      "(6/45) Stacked T44PLC_20190104T051211.tif...\n",
      "(6/45) Copied to stacked_data ...\n",
      "(7/45) Stacked T44PMC_20190104T051211.tif...\n",
      "(7/45) Copied to stacked_data ...\n",
      "(8/45) Stacked T44PLC_20190111T050151.tif...\n",
      "(8/45) Copied to stacked_data ...\n",
      "(9/45) Stacked T44PMC_20190111T050151.tif...\n",
      "(9/45) Copied to stacked_data ...\n",
      "(10/45) Stacked T44PNC_20190111T050151.tif...\n",
      "(10/45) Copied to stacked_data ...\n",
      "(11/45) Stacked T44QMD_20190111T050151.tif...\n",
      "(11/45) Copied to stacked_data ...\n",
      "(12/45) Stacked T44QND_20190111T050151.tif...\n",
      "(12/45) Copied to stacked_data ...\n",
      "(13/45) Stacked T44PLC_20190114T051151.tif...\n",
      "(13/45) Copied to stacked_data ...\n",
      "(14/45) Stacked T44PMC_20190114T051151.tif...\n",
      "(14/45) Copied to stacked_data ...\n",
      "(15/45) Stacked T44PLC_20190121T050121.tif...\n",
      "(15/45) Copied to stacked_data ...\n",
      "(16/45) Stacked T44PMC_20190121T050121.tif...\n",
      "(16/45) Copied to stacked_data ...\n",
      "(17/45) Stacked T44PNC_20190121T050121.tif...\n",
      "(17/45) Copied to stacked_data ...\n",
      "(18/45) Stacked T44QMD_20190121T050121.tif...\n",
      "(18/45) Copied to stacked_data ...\n",
      "(19/45) Stacked T44QND_20190121T050121.tif...\n",
      "(19/45) Copied to stacked_data ...\n",
      "(20/45) Stacked T44PLC_20190124T051111.tif...\n",
      "(20/45) Copied to stacked_data ...\n",
      "(21/45) Stacked T44PMC_20190124T051111.tif...\n",
      "(21/45) Copied to stacked_data ...\n",
      "(22/45) Stacked T44PLC_20190106T050209.tif...\n",
      "(22/45) Copied to stacked_data ...\n",
      "(23/45) Stacked T44PMC_20190106T050209.tif...\n",
      "(23/45) Copied to stacked_data ...\n",
      "(24/45) Stacked T44PMC_20190106T050209.tif...\n",
      "(24/45) Copied to stacked_data ...\n",
      "(25/45) Stacked T44PNC_20190106T050209.tif...\n",
      "(25/45) Copied to stacked_data ...\n",
      "(26/45) Stacked T44PNC_20190106T050209.tif...\n",
      "(26/45) Copied to stacked_data ...\n",
      "(27/45) Stacked T44QMD_20190106T050209.tif...\n",
      "(27/45) Copied to stacked_data ...\n",
      "(28/45) Stacked T44QMD_20190106T050209.tif...\n",
      "(28/45) Copied to stacked_data ...\n",
      "(29/45) Stacked T44QND_20190106T050209.tif...\n",
      "(29/45) Copied to stacked_data ...\n",
      "(30/45) Stacked T44PLC_20190109T051209.tif...\n",
      "(30/45) Copied to stacked_data ...\n",
      "(31/45) Stacked T44PMC_20190109T051209.tif...\n",
      "(31/45) Copied to stacked_data ...\n",
      "(32/45) Stacked T44PLC_20190116T050129.tif...\n",
      "(32/45) Copied to stacked_data ...\n",
      "(33/45) Stacked T44PMC_20190116T050129.tif...\n",
      "(33/45) Copied to stacked_data ...\n",
      "(34/45) Stacked T44PNC_20190116T050129.tif...\n",
      "(34/45) Copied to stacked_data ...\n",
      "(35/45) Stacked T44QMD_20190116T050129.tif...\n",
      "(35/45) Copied to stacked_data ...\n",
      "(36/45) Stacked T44QND_20190116T050129.tif...\n",
      "(36/45) Copied to stacked_data ...\n",
      "(37/45) Stacked T44PLC_20190119T051129.tif...\n",
      "(37/45) Copied to stacked_data ...\n",
      "(38/45) Stacked T44PMC_20190119T051129.tif...\n",
      "(38/45) Copied to stacked_data ...\n",
      "(39/45) Stacked T44PLC_20190126T050059.tif...\n",
      "(39/45) Copied to stacked_data ...\n",
      "(40/45) Stacked T44PMC_20190126T050059.tif...\n",
      "(40/45) Copied to stacked_data ...\n",
      "(41/45) Stacked T44PNC_20190126T050059.tif...\n",
      "(41/45) Copied to stacked_data ...\n",
      "(42/45) Stacked T44QMD_20190126T050059.tif...\n",
      "(42/45) Copied to stacked_data ...\n",
      "(43/45) Stacked T44QND_20190126T050059.tif...\n",
      "(43/45) Copied to stacked_data ...\n",
      "(44/45) Stacked T44PLC_20190129T051049.tif...\n",
      "(44/45) Copied to stacked_data ...\n",
      "(45/45) Stacked T44PMC_20190129T051049.tif...\n",
      "(45/45) Copied to stacked_data ...\n"
     ]
    }
   ],
   "source": [
    "for month in months_list:\n",
    "    print(month)\n",
    "    data_list = glob(month+\"\\\\*\")\n",
    "    num_scenes = len(data_list)\n",
    "    i = 0\n",
    "    for scene in data_list:\n",
    "        i = i + 1\n",
    "        path  =  scene + \"\\\\GRANULE\"\n",
    "        data_folder = glob(path + \"\\\\*\")\n",
    "        data_folder[0] =  data_folder[0] + \"\\\\IMG_DATA\\\\R10m\"\n",
    "        tifFiles = []\n",
    "        tifFiles.append(glob(data_folder[0] + \"\\\\*B08_10m.tif\")[0])\n",
    "        tifFiles.append(glob(data_folder[0] + \"\\\\*B04_10m.tif\")[0])\n",
    "        tifFiles.append(glob(data_folder[0] + \"\\\\*B03_10m.tif\")[0])\n",
    "        tifFiles.append(glob(data_folder[0] + \"\\\\*B02_10m.tif\")[0])\n",
    "        with rasterio.open(tifFiles[0]) as src0:\n",
    "            meta = src0.meta\n",
    "        meta.update(count = len(tifFiles))\n",
    "        dest = tifFiles[0].split('\\\\')[-1].split('.')[0].split('_')[:2]\n",
    "        dest_name = dest[0] + \"_\" + dest[1] + \".tif\"\n",
    "        dest = data_folder[0] +\"\\\\\"+ dest_name\n",
    "        if not os.path.exists(dest):\n",
    "            with rasterio.open(dest, 'w', **meta) as dst:\n",
    "                for id, layer in enumerate(tifFiles, start=1):\n",
    "                    with rasterio.open(layer) as src1:\n",
    "                        dst.write_band(id, src1.read(1))\n",
    "        print(\"(\" + str(i)  + \"/\" + str(num_scenes) + \") Stacked \" + dest_name + \"...\")\n",
    "        stack_dest_name = scene.split(\"\\\\\")[-1].split('.')[0] + \".tif\"\n",
    "        stack_dest = os.getcwd() + \"\\\\stacked_images\\\\\"+ month.split('\\\\')[-1] + \"\\\\\" + stack_dest_name\n",
    "        if not os.path.exists(stack_dest):\n",
    "            shutil.copy2(dest, stack_dest)\n",
    "        print(\"(\" + str(i)  + \"/\" + str(num_scenes) + \") Copied to stacked_data ...\")"
   ]
  },
  {
   "cell_type": "code",
   "execution_count": null,
   "metadata": {},
   "outputs": [],
   "source": []
  }
 ],
 "metadata": {
  "kernelspec": {
   "display_name": "Python 3",
   "language": "python",
   "name": "python3"
  },
  "language_info": {
   "codemirror_mode": {
    "name": "ipython",
    "version": 3
   },
   "file_extension": ".py",
   "mimetype": "text/x-python",
   "name": "python",
   "nbconvert_exporter": "python",
   "pygments_lexer": "ipython3",
   "version": "3.6.9"
  }
 },
 "nbformat": 4,
 "nbformat_minor": 2
}
